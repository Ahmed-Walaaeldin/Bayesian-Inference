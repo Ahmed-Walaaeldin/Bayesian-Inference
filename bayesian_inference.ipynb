{
 "cells": [
  {
   "attachments": {},
   "cell_type": "markdown",
   "metadata": {},
   "source": [
    "# Bayesian Inference classifier implementation\n",
    "### imports"
   ]
  },
  {
   "cell_type": "code",
   "execution_count": 1,
   "metadata": {},
   "outputs": [],
   "source": [
    "import numpy as np\n",
    "import pandas as pd\n",
    "from sklearn.model_selection import train_test_split\n",
    "\n",
    "# Model specific Library for comparing\n",
    "from sklearn.naive_bayes import GaussianNB"
   ]
  },
  {
   "attachments": {},
   "cell_type": "markdown",
   "metadata": {},
   "source": [
    "### Loding breast cancer dataset "
   ]
  },
  {
   "cell_type": "code",
   "execution_count": 2,
   "metadata": {},
   "outputs": [],
   "source": [
    "from sklearn.datasets import load_breast_cancer\n",
    "breast_cancer = load_breast_cancer()"
   ]
  },
  {
   "attachments": {},
   "cell_type": "markdown",
   "metadata": {},
   "source": [
    "### Data preprocessing and splitting"
   ]
  },
  {
   "cell_type": "code",
   "execution_count": 3,
   "metadata": {},
   "outputs": [],
   "source": [
    "df = pd.DataFrame(\n",
    "    np.c_[breast_cancer.data, breast_cancer.target],   # dataframe of data + target \n",
    "    columns = [list(breast_cancer.feature_names)+ ['target']])\n",
    "\n",
    "x = df.iloc[:, 0:-1] # rest of the data ( 30 columns )\n",
    "y = df.iloc[:,-1] # target: array of 1s and 0s , 0 -> cancer , 1 -> no cancer elhamdulelah\n",
    "\n",
    "\n",
    "X_train, X_val, y_train, y_val = train_test_split(x, y, test_size = 0.2, random_state = 999) # splitting data to train and test\n",
    "                                                                                             # test_size = 0.2 -> 20% of data is for testing"
   ]
  },
  {
   "attachments": {},
   "cell_type": "markdown",
   "metadata": {},
   "source": [
    "### Calculating PDF"
   ]
  },
  {
   "cell_type": "code",
   "execution_count": 4,
   "metadata": {},
   "outputs": [],
   "source": [
    "def gaussian_pdf(x, mean, var):\n",
    "    x = np.array(x, dtype=float)\n",
    "    mean = np.array(mean, dtype=float)\n",
    "    var = np.array(var, dtype=float)\n",
    "    # Gaussian pdf formula\n",
    "    coefficient = 1 / np.sqrt(2 * np.pi * var)\n",
    "    exponent = -((x - mean) ** 2) / (2 * var)\n",
    "    return coefficient * np.exp(exponent)\n"
   ]
  },
  {
   "attachments": {},
   "cell_type": "markdown",
   "metadata": {},
   "source": [
    "### Fitting the model"
   ]
  },
  {
   "cell_type": "code",
   "execution_count": 5,
   "metadata": {},
   "outputs": [],
   "source": [
    "def predict(X):\n",
    "    predictions = []\n",
    "    X = np.array(X, dtype=float) # making sure of the format\n",
    "    for x in X: # looping over each sample \n",
    "        posteriors = []\n",
    "        for class_ , stats in class_features.items(): # stats is a dict that contains the 3 parameters for each feature within the class\n",
    "            prior = np.log(stats['prior']) \n",
    "            likelihood = np.sum(np.log(gaussian_pdf(x, stats['mean'], stats['var'])))\n",
    "            posterior = prior + likelihood     # sum the logs of prior and likelihood\n",
    "            posteriors.append(posterior)\n",
    "        predictions.append(np.argmax(posteriors))\n",
    "    return np.array(predictions)"
   ]
  },
  {
   "cell_type": "code",
   "execution_count": 6,
   "metadata": {},
   "outputs": [],
   "source": [
    "class_features = {}\n",
    "for c in np.unique(y_train):\n",
    "    features = X_train[y_train == c] # separate data according to classes\n",
    "    class_features[c] = { # calculating parameters for each feature within the class\n",
    "        'mean': features.mean(axis=0), \n",
    "        'var': features.var(axis=0),\n",
    "        'prior': len(features) / len(X_train)\n",
    "    }"
   ]
  },
  {
   "attachments": {},
   "cell_type": "markdown",
   "metadata": {},
   "source": [
    "### Testing time "
   ]
  },
  {
   "cell_type": "code",
   "execution_count": 9,
   "metadata": {},
   "outputs": [
    {
     "name": "stdout",
     "output_type": "stream",
     "text": [
      "our Model Accuracy : 0.9298245614035088\n"
     ]
    }
   ],
   "source": [
    "y_pred = predict(X_val.values)\n",
    "accuracy = np.mean(y_pred == y_val)\n",
    "print(f'our Model Accuracy : {accuracy}')"
   ]
  },
  {
   "attachments": {},
   "cell_type": "markdown",
   "metadata": {},
   "source": [
    "### Sklearn accuracy"
   ]
  },
  {
   "cell_type": "code",
   "execution_count": 8,
   "metadata": {},
   "outputs": [
    {
     "name": "stdout",
     "output_type": "stream",
     "text": [
      "sklearn Model Accuracy  : 0.9210526315789473\n"
     ]
    }
   ],
   "source": [
    "# sklearn Gaussian model\n",
    "clf = GaussianNB()\n",
    "clf.fit(X_train, y_train)\n",
    "print(\"sklearn Model Accuracy  :\", clf.score(X_val, y_val))"
   ]
  }
 ],
 "metadata": {
  "kernelspec": {
   "display_name": "Python 3",
   "language": "python",
   "name": "python3"
  },
  "language_info": {
   "codemirror_mode": {
    "name": "ipython",
    "version": 3
   },
   "file_extension": ".py",
   "mimetype": "text/x-python",
   "name": "python",
   "nbconvert_exporter": "python",
   "pygments_lexer": "ipython3",
   "version": "3.11.1"
  },
  "orig_nbformat": 4,
  "vscode": {
   "interpreter": {
    "hash": "aee8b7b246df8f9039afb4144a1f6fd8d2ca17a180786b69acc140d282b71a49"
   }
  }
 },
 "nbformat": 4,
 "nbformat_minor": 2
}
